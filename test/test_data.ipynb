import pandas as pd

data = pd.read_parquet("data/part.parquet", engine="pyarrow")

print(data.head())