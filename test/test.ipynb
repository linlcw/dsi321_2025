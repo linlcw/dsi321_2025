{
 "cells": [
  {
   "cell_type": "code",
   "execution_count": 1,
   "metadata": {},
   "outputs": [],
   "source": [
    "import pandas as pd\n",
    "from config.path_config import lakefs_s3_path\n",
    "import os"
   ]
  },
  {
   "cell_type": "code",
   "execution_count": 5,
   "metadata": {},
   "outputs": [
    {
     "data": {
      "text/plain": [
       "category           string[python]\n",
       "tag                string[python]\n",
       "username           string[python]\n",
       "tweetText          string[python]\n",
       "timestamp     datetime64[ns, UTC]\n",
       "scrapeTime         datetime64[ns]\n",
       "tweet_link         string[python]\n",
       "index                       int64\n",
       "year                        int32\n",
       "month                       int32\n",
       "day                         int32\n",
       "dtype: object"
      ]
     },
     "execution_count": 5,
     "metadata": {},
     "output_type": "execute_result"
    }
   ],
   "source": [
    "repo_name = \"tweets-repo\"\n",
    "branch_name = \"main\"\n",
    "path = \"tweets.parquet\"\n",
    "lakefs_s3_path = f\"s3://{repo_name}/{branch_name}/{path}\"\n",
    "def data_from_lakefs(lakefs_endpoint: str = \"http://localhost:8001/\", columns: list[str] = None):\n",
    "    storage_options = {\n",
    "        \"key\": os.getenv(\"ACCESS_KEY\"),\n",
    "        \"secret\": os.getenv(\"SECRET_KEY\"),\n",
    "        \"client_kwargs\": {\n",
    "            \"endpoint_url\": lakefs_endpoint\n",
    "        }\n",
    "    }\n",
    "    df = pd.read_parquet(\n",
    "        lakefs_s3_path,\n",
    "        columns=columns,\n",
    "        storage_options=storage_options,\n",
    "        engine='pyarrow',\n",
    "    )\n",
    "    return df\n",
    "\n",
    "df = data_from_lakefs()\n",
    "df = df.rename(columns={'postTimeRaw': 'timestamp'})\n",
    "df['year'] = df['year'].astype('int32')\n",
    "df['month'] = df['month'].astype('int32')\n",
    "df['day'] = df['day'].astype('int32')\n",
    "df['timestamp'] = df['timestamp'].dt.tz_localize('UTC')\n",
    "df.to_parquet('../data/data.parquet', engine='pyarrow')\n",
    "df.dtypes"
   ]
  },
  {
   "cell_type": "code",
   "execution_count": 6,
   "metadata": {},
   "outputs": [
    {
     "data": {
      "text/plain": [
       "category           string[python]\n",
       "tag                string[python]\n",
       "username           string[python]\n",
       "tweetText          string[python]\n",
       "timestamp     datetime64[ns, UTC]\n",
       "scrapeTime         datetime64[ns]\n",
       "tweet_link         string[python]\n",
       "index                       int64\n",
       "year                        int32\n",
       "month                       int32\n",
       "day                         int32\n",
       "dtype: object"
      ]
     },
     "execution_count": 6,
     "metadata": {},
     "output_type": "execute_result"
    }
   ],
   "source": [
    "df_verlify = pd.read_parquet('../data/data.parquet', engine='pyarrow')\n",
    "df_verlify.dtypes"
   ]
  },
  {
   "cell_type": "code",
   "execution_count": 7,
   "metadata": {},
   "outputs": [
    {
     "data": {
      "text/plain": [
       "category      True\n",
       "tag           True\n",
       "username      True\n",
       "tweetText     True\n",
       "timestamp     True\n",
       "scrapeTime    True\n",
       "tweet_link    True\n",
       "index         True\n",
       "year          True\n",
       "month         True\n",
       "day           True\n",
       "dtype: bool"
      ]
     },
     "execution_count": 7,
     "metadata": {},
     "output_type": "execute_result"
    }
   ],
   "source": [
    "# dtype ของ dataframe เก่า vs จาก read มาใหม่\n",
    "df.dtypes == df_verlify.dtypes"
   ]
  },
  {
   "cell_type": "code",
   "execution_count": 8,
   "metadata": {},
   "outputs": [
    {
     "data": {
      "text/plain": [
       "True"
      ]
     },
     "execution_count": 8,
     "metadata": {},
     "output_type": "execute_result"
    }
   ],
   "source": [
    "# Check records > 1000\n",
    "len(df_verlify) > 1000"
   ]
  },
  {
   "cell_type": "code",
   "execution_count": 9,
   "metadata": {},
   "outputs": [
    {
     "data": {
      "text/plain": [
       "np.int64(0)"
      ]
     },
     "execution_count": 9,
     "metadata": {},
     "output_type": "execute_result"
    }
   ],
   "source": [
    "# Check data duplicated \n",
    "df_verlify.duplicated().sum()"
   ]
  },
  {
   "cell_type": "code",
   "execution_count": 10,
   "metadata": {},
   "outputs": [
    {
     "data": {
      "text/plain": [
       "category      0\n",
       "tag           0\n",
       "username      0\n",
       "tweetText     0\n",
       "timestamp     0\n",
       "scrapeTime    0\n",
       "tweet_link    0\n",
       "index         0\n",
       "year          0\n",
       "month         0\n",
       "day           0\n",
       "dtype: int64"
      ]
     },
     "execution_count": 10,
     "metadata": {},
     "output_type": "execute_result"
    }
   ],
   "source": [
    "# Check null\n",
    "df_verlify.isnull().sum()"
   ]
  }
 ],
 "metadata": {
  "kernelspec": {
   "display_name": ".venv",
   "language": "python",
   "name": "python3"
  },
  "language_info": {
   "codemirror_mode": {
    "name": "ipython",
    "version": 3
   },
   "file_extension": ".py",
   "mimetype": "text/x-python",
   "name": "python",
   "nbconvert_exporter": "python",
   "pygments_lexer": "ipython3",
   "version": "3.9.6"
  }
 },
 "nbformat": 4,
 "nbformat_minor": 2
}
